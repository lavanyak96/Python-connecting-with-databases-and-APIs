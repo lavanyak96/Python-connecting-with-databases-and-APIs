{
 "cells": [
  {
   "cell_type": "markdown",
   "id": "1850bcce-47ae-41e0-819a-b60ce58b4274",
   "metadata": {},
   "source": [
    "Q1. What is a database? Differentiate between SQL and NoSQL databases."
   ]
  },
  {
   "cell_type": "markdown",
   "id": "9864336a-f909-4b8d-89f3-8e6294813f8b",
   "metadata": {},
   "source": [
    "A database is a structured collection of data organized and stored in a way that allows for efficient retrieval, updating, and management of data.\n",
    "\n",
    "Differentiation between SQL (Relational) databases and NoSQL databases:\n",
    "\n",
    "SQL (Relational) Databases:\n",
    "\n",
    "1.Data Structure: SQL databases are based on the relational model, which means they store data in tables with rows and columns. The relationships between tables are defined using keys, such as primary keys and foreign keys.\n",
    "2.Query Language: SQL databases use SQL (Structured Query Language) for querying and manipulating data. SQL is a powerful language for complex queries and transactions.\n",
    "3.Scaling: SQL databases are typically vertically scalable, which means you can increase the server's processing power (CPU, RAM) to handle more load. Horizontal scaling (adding more servers) can be challenging.\n",
    "4.Use Cases: SQL databases are well-suited for applications with structured data and complex relationships, such as financial systems, e-commerce platforms, and applications that require transactional consistency.\n",
    "\n",
    "NoSQL Databases:\n",
    "\n",
    "1.Data Structure: NoSQL databases can store data in various formats, including document-oriented, key-value, column-family, and graph formats. They are schema-less, meaning each document or record in a collection can have a different structure.\n",
    "2.Query Language: NoSQL databases often use query languages specific to their data model. For example, document-oriented databases may use JSON-based queries.\n",
    "3.Scaling: NoSQL databases are designed for horizontal scalability, which means you can add more servers to handle increasing data and traffic. They are well-suited for distributed and cloud-based architectures.\n",
    "4.Use Cases: NoSQL databases are commonly used in web applications, IoT systems, real-time analytics, and scenarios where data volumes are large and rapidly changing.\n",
    "\n",
    "\n",
    "In summary, the choice between SQL and NoSQL databases depends on the specific needs of your application. SQL databases are suitable for structured data with complex relationships, while NoSQL databases offer flexibility and scalability for applications with dynamic data requirements and high traffic loads."
   ]
  },
  {
   "cell_type": "markdown",
   "id": "9f2ff906-4c9b-4002-b5ca-91f24648b0ec",
   "metadata": {},
   "source": [
    "  "
   ]
  },
  {
   "cell_type": "markdown",
   "id": "927032a7-c32c-4e4a-98cc-025a7e792f1b",
   "metadata": {},
   "source": [
    "Q2. What is DDL? Explain why CREATE, DROP, ALTER, and TRUNCATE are used with an example."
   ]
  },
  {
   "cell_type": "markdown",
   "id": "e4a95503-38a3-4886-9427-42743384d6f3",
   "metadata": {},
   "source": [
    "DDL (Data Definition Language) is a subset of SQL (Structured Query Language) that is used for defining and managing the structure of a database. DDL statements are responsible for creating, altering, and deleting database objects, such as tables, indexes, and constraints. DDL statements do not deal with the data itself; they deal with the database's structure.\n",
    "\n",
    "1.CREATE :\n",
    "The CREATE statement is used to create new database objects, such as tables, indexes, and views.\n",
    "\n",
    "2.DROP:\n",
    "The DROP statement is used to remove existing database objects like tables, indexes, or views.\n",
    "\n",
    "3.ALTER:\n",
    "The ALTER statement is used to modify the structure of an existing database object, such as adding, modifying, or dropping columns.\n",
    "\n",
    "4.TRUNCATE:\n",
    "The TRUNCATE statement is used to remove all rows from a table while keeping the table structure intact. It is faster than the DELETE statement because it doesn't generate individual row delete statements."
   ]
  },
  {
   "cell_type": "markdown",
   "id": "79d71aef-f9a9-458b-8b76-f8c1a2c17a4e",
   "metadata": {},
   "source": [
    "#CREATE\n",
    "\n",
    "CREATE TABLE employees (\n",
    "    employee_id INT PRIMARY KEY,\n",
    "    first_name VARCHAR(50),\n",
    "    last_name VARCHAR(50),\n",
    "    hire_date DATE\n",
    ");\n",
    "\n",
    "\n",
    "#DROP\n",
    "\n",
    "DROP TABLE employees;\n",
    "\n",
    "\n",
    "#ALTER\n",
    "\n",
    "ALTER TABLE employees\n",
    "ADD COLUMN email VARCHAR(100);\n",
    "\n",
    "#TRUNCATE\n",
    "\n",
    "TRUNCATE TABLE employees;"
   ]
  },
  {
   "cell_type": "markdown",
   "id": "47466e76-0b7c-4874-a240-6baed1e876b2",
   "metadata": {},
   "source": [
    "   "
   ]
  },
  {
   "cell_type": "markdown",
   "id": "e9a12d30-93e9-4f04-8f6b-cc509e671ad3",
   "metadata": {},
   "source": [
    "Q3. What is DML? Explain INSERT, UPDATE, and DELETE with an example."
   ]
  },
  {
   "cell_type": "markdown",
   "id": "ddd529a7-84eb-4e57-a68f-b32ece733e55",
   "metadata": {},
   "source": [
    "DML (Data Manipulation Language) is a subset of SQL (Structured Query Language) used for manipulating data stored in a database. DML statements are responsible for performing operations like inserting, updating, and deleting data within database tables. Unlike DDL (Data Definition Language), which deals with the structure of the database, DML focuses on the data itself.\n",
    "\n",
    "1.INSERT:\n",
    "The INSERT statement is used to add new records (rows) to a database table.\n",
    "\n",
    "EX:\n",
    "INSERT INTO employees (employee_id, first_name, last_name, hire_date)\n",
    "VALUES (1, 'John', 'Doe', '2023-09-15');\n",
    "\n",
    "2.UPDATE:\n",
    "The UPDATE statement is used to modify existing records in a database table.\n",
    "\n",
    "EX:\n",
    "UPDATE employees\n",
    "SET first_name = 'Jane'\n",
    "WHERE employee_id = 1;\n",
    "\n",
    "3.DELETE:\n",
    "The DELETE statement is used to remove records from a database table.\n",
    "\n",
    "EX:\n",
    "DELETE FROM employees\n",
    "WHERE employee_id = 1;\n",
    "\n",
    "\n",
    "DML statements are crucial for managing the data within a database. INSERT adds new data, UPDATE modifies existing data, and DELETE removes data as needed. "
   ]
  },
  {
   "cell_type": "markdown",
   "id": "1fab21f4-cffa-44f6-a4ad-d43ed979269e",
   "metadata": {},
   "source": [
    "  "
   ]
  },
  {
   "cell_type": "markdown",
   "id": "d2e67ebb-ace9-49af-9ea4-af2f45041ff7",
   "metadata": {},
   "source": [
    "Q4. What is DQL? Explain SELECT with an example."
   ]
  },
  {
   "cell_type": "markdown",
   "id": "40bdcae4-8fb3-45c3-bfd1-04db5ea950d1",
   "metadata": {},
   "source": [
    "DQL (Data Query Language) is a subset of SQL (Structured Query Language) used for querying and retrieving data from a database. DQL statements are primarily focused on selecting and retrieving data from one or more tables in a database. The most commonly used DQL statement is the SELECT statement.\n",
    "\n",
    "1.SELECT:\n",
    "The SELECT statement is used to retrieve data from one or more tables in a database.\n",
    "\n",
    "EX:\n",
    "# to select all the columns\n",
    "SELECT * FROM employees;\n",
    "\n",
    "# to select specific columns\n",
    "SELECT first_name, last_name FROM employees;"
   ]
  },
  {
   "cell_type": "markdown",
   "id": "883cbdce-9f71-411b-9e67-71d22957cdda",
   "metadata": {},
   "source": [
    "  "
   ]
  },
  {
   "cell_type": "markdown",
   "id": "6976778f-4193-480d-932d-e6c910efd88d",
   "metadata": {},
   "source": [
    "Q5. Explain Primary Key and Foreign Key."
   ]
  },
  {
   "cell_type": "markdown",
   "id": "ae94da74-8c8b-4092-8968-16181ad7552b",
   "metadata": {},
   "source": [
    "Primary Key and Foreign Key are two essential concepts used to establish relationships between tables and enforce data integrity rules.\n",
    "\n",
    "Primary Key:\n",
    "\n",
    "1.A Primary Key is a column or a set of columns in a table that uniquely identifies each row (record) in that table.\n",
    "2.Primary Key values must be unique and not null.\n",
    "3.A table can have only one Primary Key, although it can be composed of multiple columns (composite or compound primary key).\n",
    "4.Examples of Primary Key use include employee IDs, customer IDs, or product IDs.\n",
    "\n",
    "EX:\n",
    "\n",
    "CREATE TABLE employees (\n",
    "    employee_id INT PRIMARY KEY,\n",
    "    first_name VARCHAR(50),\n",
    "    last_name VARCHAR(50),\n",
    "    hire_date DATE\n",
    ");\n",
    "\n",
    "Foreign Key:\n",
    "\n",
    "1.A Foreign Key is a column or a set of columns in a table that establishes a link between two tables by referencing the Primary Key of another (usually, a related) table.\n",
    "2.It enforces referential integrity, ensuring that data in the referencing table corresponds to data in the referenced table.\n",
    "3.A Foreign Key helps maintain data consistency and supports relationships between tables.\n",
    "4.Examples of Foreign Key use include linking an \"orders\" table to a \"customers\" table using customer IDs.\n",
    "\n",
    "EX:\n",
    "\n",
    "CREATE TABLE orders (\n",
    "    order_id INT PRIMARY KEY,\n",
    "    customer_id INT,\n",
    "    order_date DATE,\n",
    "    -- Define a Foreign Key constraint\n",
    "    FOREIGN KEY (customer_id) REFERENCES customers(customer_id)\n",
    ");\n",
    "\n",
    "\n",
    "\n",
    "In summary, Primary Keys uniquely identify rows in a table, while Foreign Keys establish relationships between tables by referencing Primary Keys from related tables, ensuring data integrity and consistency. "
   ]
  },
  {
   "cell_type": "markdown",
   "id": "d1baa226-84da-4814-acdc-403710b3f2e2",
   "metadata": {},
   "source": [
    "  "
   ]
  },
  {
   "cell_type": "markdown",
   "id": "e61196d8-c6b5-444f-a1e7-d18a6a941e3b",
   "metadata": {},
   "source": [
    "Q6. Write a python code to connect MySQL to python. Explain the cursor() and execute() method."
   ]
  },
  {
   "cell_type": "code",
   "execution_count": 3,
   "id": "5637dd1f-e4cb-45b6-b62c-950866b4f421",
   "metadata": {},
   "outputs": [
    {
     "name": "stdout",
     "output_type": "stream",
     "text": [
      "Collecting mysql-connector-python\n",
      "  Downloading mysql_connector_python-8.1.0-cp310-cp310-manylinux_2_17_x86_64.whl (27.5 MB)\n",
      "\u001b[2K     \u001b[90m━━━━━━━━━━━━━━━━━━━━━━━━━━━━━━━━━━━━━━━━\u001b[0m \u001b[32m27.5/27.5 MB\u001b[0m \u001b[31m46.2 MB/s\u001b[0m eta \u001b[36m0:00:00\u001b[0m00:01\u001b[0m00:01\u001b[0m\n",
      "\u001b[?25hRequirement already satisfied: protobuf<=4.21.12,>=4.21.1 in /opt/conda/lib/python3.10/site-packages (from mysql-connector-python) (4.21.11)\n",
      "Installing collected packages: mysql-connector-python\n",
      "Successfully installed mysql-connector-python-8.1.0\n",
      "Note: you may need to restart the kernel to use updated packages.\n"
     ]
    }
   ],
   "source": [
    "pip install mysql-connector-python"
   ]
  },
  {
   "cell_type": "code",
   "execution_count": 4,
   "id": "bae3cf59-2b9b-4670-a9e5-64d84de79f2a",
   "metadata": {},
   "outputs": [],
   "source": [
    "import mysql.connector\n",
    "\n",
    "mydb = mysql.connector.connect(\n",
    "  host=\"localhost\",\n",
    "  user=\"abc\",\n",
    "  password=\"password\"\n",
    ")\n",
    "print(mydb)\n",
    "mycursor = mydb.cursor()\n",
    "mycursor.execute(\"select * from test1.test_table1\")\n",
    "for i in mycursor.fetchall():\n",
    "    print(i)"
   ]
  },
  {
   "cell_type": "markdown",
   "id": "6e70498b-c730-41ff-9abc-085070fdcb2a",
   "metadata": {},
   "source": [
    "cursor() Method:\n",
    "\n",
    "1.The cursor acts as a pointer or a work area to execute SQL queries and fetch results.\n",
    "2.It creates a cursor object, which is used to interact with the database.\n",
    "3.The cursor() method is called on a database connection object (e.g., connection.cursor()).\n",
    "\n",
    "execute() Method:\n",
    "\n",
    "1.The execute() method is called on a cursor object (e.g., cursor.execute(sql_query)).\n",
    "2.It is used to execute SQL queries or statements passed as a string argument.\n",
    "3.After executing the query, the cursor can be used to fetch and manipulate the results."
   ]
  },
  {
   "cell_type": "markdown",
   "id": "06c824f5-daf4-4869-98aa-5287511430c7",
   "metadata": {},
   "source": [
    "  "
   ]
  },
  {
   "cell_type": "markdown",
   "id": "d792e4fc-7bf9-4699-9e61-af5248ae698c",
   "metadata": {},
   "source": [
    "Q7. Give the order of execution of SQL clauses in an SQL query."
   ]
  },
  {
   "cell_type": "markdown",
   "id": "3e1a8d00-9ad3-4654-b0bb-d9b0a47e0527",
   "metadata": {},
   "source": [
    "In an SQL query, the order of execution of SQL clauses is typically as follows:\n",
    "\n",
    "\n",
    "\n",
    "FROM: This clause specifies the table or tables from which the data will be retrieved. It's the first clause to be processed.\n",
    "\n",
    "WHERE: The WHERE clause is used to filter rows from the tables specified in the FROM clause based on a specified condition. It's applied after the FROM clause to filter the result set.\n",
    "\n",
    "GROUP BY: The GROUP BY clause is used to group rows from the result set into summary rows based on the values of one or more columns. It's applied after the WHERE clause.\n",
    "\n",
    "HAVING: The HAVING clause is used to filter the grouped rows produced by the GROUP BY clause based on a condition. It operates after the GROUP BY clause.\n",
    "\n",
    "SELECT: The SELECT clause specifies the columns that will be included in the final result set. It's applied after the previous clauses have filtered and grouped the data.\n",
    "\n",
    "DISTINCT: If the DISTINCT keyword is used, duplicate rows are removed from the result set after the SELECT clause is applied.\n",
    "\n",
    "ORDER BY: The ORDER BY clause is used to sort the rows in the result set based on one or more columns. It's applied after the previous clauses have generated the result set.\n",
    "\n",
    "LIMIT/OFFSET: If pagination or limiting the number of rows is required, the LIMIT and OFFSET clauses are applied after the previous clauses have generated the sorted result set.\n",
    "\n",
    "UNION/INTERSECT/EXCEPT: If set operations (UNION, INTERSECT, EXCEPT) are used, these operations are applied after all the previous clauses have generated their respective result sets.\n",
    "\n",
    "\n",
    "\n",
    "It's important to note that not all clauses are required in every SQL query, and the order of execution may vary depending on the specific query and its requirements. "
   ]
  }
 ],
 "metadata": {
  "kernelspec": {
   "display_name": "Python 3 (ipykernel)",
   "language": "python",
   "name": "python3"
  },
  "language_info": {
   "codemirror_mode": {
    "name": "ipython",
    "version": 3
   },
   "file_extension": ".py",
   "mimetype": "text/x-python",
   "name": "python",
   "nbconvert_exporter": "python",
   "pygments_lexer": "ipython3",
   "version": "3.10.8"
  }
 },
 "nbformat": 4,
 "nbformat_minor": 5
}
