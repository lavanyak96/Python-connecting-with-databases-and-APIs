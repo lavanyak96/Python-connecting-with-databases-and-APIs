{
 "cells": [
  {
   "cell_type": "markdown",
   "id": "497fa9e1-668a-46e6-8e38-1f0d0d98b17f",
   "metadata": {},
   "source": [
    "Q1. What is Flask Framework? What are the advantages of Flask Framework?"
   ]
  },
  {
   "cell_type": "markdown",
   "id": "b8461e07-b314-479b-b81a-ddffc88b9ddb",
   "metadata": {},
   "source": [
    "Flask is a lightweight and micro web framework written in Python. It is designed to be simple, easy to use, and flexible, making it an excellent choice for developing web applications and APIs, especially for small to medium-sized projects. Flask is often referred to as a \"micro\" framework because it provides the essential components for web development without imposing strict patterns or unnecessary complexity.\n",
    "\n",
    "\n",
    "\n",
    "Advantages of Flask Framework:\n",
    "\n",
    "Simplicity: Flask is known for its simplicity and minimalism. It provides just enough functionality to get a web application up and running without imposing a lot of overhead. Developers can start quickly and build applications with ease.\n",
    "\n",
    "Flexibility: Flask is unopinionated, which means it doesn't enforce a specific structure or design pattern on your project. This flexibility allows developers to choose the tools and libraries that best suit their needs, making it suitable for a wide range of applications.\n",
    "\n",
    "Lightweight: Flask's core is minimal and doesn't come with built-in features that you may not need. This lightweight nature makes it easy to understand and extend based on your project's requirements.\n",
    "\n",
    "Extensibility: While Flask's core is minimal, it provides an extensive ecosystem of extensions and plugins that can be easily integrated into your application. This allows you to add features like database integration, authentication, and more without reinventing the wheel.\n",
    "    \n",
    "Built-in Development Server: Flask comes with a built-in development server, which is handy for testing and debugging your applications during development without the need for external server software.\n",
    "    \n",
    "Scalability: While Flask is well-suited for small to medium-sized projects, it can also be used for larger applications with proper design and structure. Many successful websites and applications have been built with Flask.\n",
    "\n",
    "Excellent Documentation: Flask has excellent documentation, making it easy for developers to get started and find answers to their questions.\n",
    "\n",
    "\n",
    "\n",
    "In summary, Flask is a simple yet powerful web framework that offers flexibility, extensibility, and a minimalistic approach to web development. Its advantages lie in its ease of use, the freedom it provides in designing your application, and its vibrant community and ecosystem of extensions. These qualities make Flask an attractive choice for web developers looking to build web applications and APIs."
   ]
  },
  {
   "cell_type": "markdown",
   "id": "98bcffef-01ce-405c-b136-f6d887b6984d",
   "metadata": {},
   "source": [
    "  "
   ]
  },
  {
   "cell_type": "markdown",
   "id": "d54ca923-bfbe-48f7-bdd6-4dc4f813303a",
   "metadata": {},
   "source": [
    "Q2. Create a simple Flask application to display ‘Hello World!!’. Attach the screenshot of the output in\n",
    "Jupyter Notebook."
   ]
  },
  {
   "attachments": {
    "91606d51-cde4-45a9-bb07-0e3f52347666.png": {
     "image/png": "[encoded data removed]"
    }
   },
   "cell_type": "markdown",
   "id": "ceebb74b-d081-4440-8460-3abfeaafc0ea",
   "metadata": {},
   "source": [
    "![flask.png](attachment:91606d51-cde4-45a9-bb07-0e3f52347666.png)"
   ]
  },
  {
   "cell_type": "markdown",
   "id": "7aeea836-90a5-44e7-8dda-c43f060db097",
   "metadata": {},
   "source": [
    "  "
   ]
  },
  {
   "cell_type": "markdown",
   "id": "2c13a9aa-15ab-406d-b819-cd6222932425",
   "metadata": {},
   "source": [
    "Q3. What is App routing in Flask? Why do we use app routes?"
   ]
  },
  {
   "cell_type": "markdown",
   "id": "ff9b6a4a-a25f-495c-bc92-a55284037794",
   "metadata": {},
   "source": [
    "In Flask, app routing refers to the process of defining URL routes (endpoints) and associating them with specific Python functions or views within your web application. App routing is a fundamental aspect of web development that determines how different URLs or routes map to specific actions or responses within your Flask application. It's a key part of creating a web application's navigation and functionality.\n",
    "\n",
    "\n",
    "why we use app routes in Flask:\n",
    "\n",
    "URL Handling: App routes allow you to specify how different URLs should be handled by your Flask application. When a client (e.g., a web browser) requests a specific URL, Flask uses routing to determine which Python function or view should be executed to generate a response.\n",
    "\n",
    "Organization: App routes help organize the structure of your web application. By defining routes and views, you create a clear and predictable structure for handling different parts of your application.\n",
    "\n",
    "Modularity: Flask encourages a modular approach to web development. Each route and associated view can be thought of as a modular component of your application. This modularity makes it easier to manage and maintain your codebase.\n",
    "\n",
    "Function Mapping: App routes establish a mapping between URL patterns and Python functions. This means that when a user accesses a specific URL, Flask can invoke the corresponding function to generate the appropriate response, whether it's rendering an HTML template, processing a form submission, or returning JSON data.\n",
    "\n",
    "User Navigation: App routes define the paths that users can follow within your application. They determine how users can navigate from one part of your site to another, such as moving from a home page to a product page or a user profile page.\n",
    "\n",
    "RESTful APIs: When building RESTful APIs with Flask, app routes define the endpoints for different API resources. Each route corresponds to a specific resource, and the associated views handle HTTP methods like GET, POST, PUT, and DELETE for data manipulation.\n",
    "\n",
    "Dynamic URLs: Flask's routing system allows for dynamic URLs by using route parameters. You can define routes with variable parts, such as /user/<username>, where <username> can be dynamically replaced with different values.\n",
    "\n",
    "HTTP Methods: Flask routes can be associated with specific HTTP methods (e.g., GET, POST, PUT, DELETE). This allows you to define different actions for different types of requests to the same URL."
   ]
  },
  {
   "cell_type": "markdown",
   "id": "6f7f8e8f-3a8f-469a-a20d-004d3019ab4b",
   "metadata": {},
   "source": [
    "  "
   ]
  },
  {
   "cell_type": "markdown",
   "id": "da273a78-0e40-486b-ae49-efb623e1d302",
   "metadata": {},
   "source": [
    "Q4. Create a “/welcome” route to display the welcome message “Welcome to ABC Corporation” and a “/”\n",
    "route to show the following details:\n",
    "Company Name: ABC Corporation\n",
    "Location: India\n",
    "Contact Detail: 999-999-9999"
   ]
  },
  {
   "attachments": {
    "f987fdeb-3035-41f2-8164-c5ae2f5fd7d7.png": {
     "image/png": "[encoded data removed]"
    }
   },
   "cell_type": "markdown",
   "id": "9c7b8ba2-3f52-438e-951b-8d0c9140d80f",
   "metadata": {},
   "source": [
    "![flask2.png](attachment:f987fdeb-3035-41f2-8164-c5ae2f5fd7d7.png)"
   ]
  },
  {
   "attachments": {
    "09058073-af26-487f-baf5-a3ea38b5b9f0.png": {
     "image/png": "[encoded data removed]"
    }
   },
   "cell_type": "markdown",
   "id": "d879d462-0684-4b87-ba75-870d640cbc2f",
   "metadata": {},
   "source": [
    "![flask3.png](attachment:09058073-af26-487f-baf5-a3ea38b5b9f0.png)"
   ]
  },
  {
   "cell_type": "markdown",
   "id": "65985d19-310a-4d86-961a-46ba5c887ebb",
   "metadata": {},
   "source": [
    "  "
   ]
  },
  {
   "cell_type": "markdown",
   "id": "0f0cfa5d-6c7c-4cb5-b8fc-5aa2f6d0537d",
   "metadata": {},
   "source": [
    "Q5. What function is used in Flask for URL Building? Write a Python code to demonstrate the working of the\n",
    "url_for() function."
   ]
  },
  {
   "cell_type": "markdown",
   "id": "35329e3a-64f8-45f5-8f45-4ba7decf3719",
   "metadata": {},
   "source": [
    "In Flask, the url_for() function is used for URL building. It is a powerful function that generates URLs for routes defined in your application, making it easier to create links and redirects without hardcoding URLs.\n"
   ]
  },
  {
   "cell_type": "code",
   "execution_count": null,
   "id": "c9ddd242-1cf4-42c1-acf4-856b95455728",
   "metadata": {},
   "outputs": [],
   "source": [
    "from flask import Flask, url_for\n",
    "\n",
    "app = Flask(__name__)\n",
    "\n",
    "@app.route('/')\n",
    "def home():\n",
    "    return 'Welcome to the Home Page'\n",
    "\n",
    "@app.route('/about')\n",
    "def about():\n",
    "    return 'This is the About Page'\n",
    "\n",
    "@app.route('/contact')\n",
    "def contact():\n",
    "    return 'Contact us at example@email.com'\n",
    "\n",
    "if __name__ == '__main__':\n",
    "    with app.test_request_context():\n",
    "        # Generate URLs using url_for() for the defined routes\n",
    "        home_url = url_for('home')\n",
    "        about_url = url_for('about')\n",
    "        contact_url = url_for('contact')\n",
    "\n",
    "        # Print the generated URLs\n",
    "        print(\"Home Page URL:\", home_url)\n",
    "        print(\"About Page URL:\", about_url)\n",
    "        print(\"Contact Page URL:\", contact_url)"
   ]
  }
 ],
 "metadata": {
  "kernelspec": {
   "display_name": "Python 3 (ipykernel)",
   "language": "python",
   "name": "python3"
  },
  "language_info": {
   "codemirror_mode": {
    "name": "ipython",
    "version": 3
   },
   "file_extension": ".py",
   "mimetype": "text/x-python",
   "name": "python",
   "nbconvert_exporter": "python",
   "pygments_lexer": "ipython3",
   "version": "3.10.8"
  }
 },
 "nbformat": 4,
 "nbformat_minor": 5
}
